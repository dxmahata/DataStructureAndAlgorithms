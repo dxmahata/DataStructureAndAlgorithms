{
 "metadata": {
  "name": "",
  "signature": "sha256:6047db7b97e0f2a08fa2f86770469648de60f6601b6d94e787be0bf11c212650"
 },
 "nbformat": 3,
 "nbformat_minor": 0,
 "worksheets": [
  {
   "cells": [
    {
     "cell_type": "code",
     "collapsed": false,
     "input": [
      "from IPython.display import YouTubeVideo\n",
      "YouTubeVideo('bvOYfDpk940')"
     ],
     "language": "python",
     "metadata": {},
     "outputs": [
      {
       "html": [
        "\n",
        "        <iframe\n",
        "            width=\"400\"\n",
        "            height=300\"\n",
        "            src=\"https://www.youtube.com/embed/bvOYfDpk940\"\n",
        "            frameborder=\"0\"\n",
        "            allowfullscreen\n",
        "        ></iframe>\n",
        "        "
       ],
       "metadata": {},
       "output_type": "pyout",
       "prompt_number": 4,
       "text": [
        "<IPython.lib.display.YouTubeVideo at 0x2e13b90>"
       ]
      }
     ],
     "prompt_number": 4
    },
    {
     "cell_type": "code",
     "collapsed": false,
     "input": [
      "from IPython.display import HTML\n",
      "HTML('<iframe src=http://visualgo.net/bst.html width=900 height=600></iframe>')"
     ],
     "language": "python",
     "metadata": {},
     "outputs": [
      {
       "html": [
        "<iframe src=http://visualgo.net/bst.html width=900 height=600></iframe>"
       ],
       "metadata": {},
       "output_type": "pyout",
       "prompt_number": 10,
       "text": [
        "<IPython.core.display.HTML at 0x2e138f0>"
       ]
      }
     ],
     "prompt_number": 10
    },
    {
     "cell_type": "markdown",
     "metadata": {},
     "source": [
      "Binary Search Tree representation"
     ]
    },
    {
     "cell_type": "code",
     "collapsed": false,
     "input": [
      "class BinarySearchTree:\n",
      "    def __init__(self,root):\n",
      "        self.root = root\n",
      "        self.size = 0\n",
      "        \n",
      "    def __len__(self):\n",
      "        return self.size\n",
      "    \n",
      "    def __iter__(self):\n",
      "        return self.root.__iter__()"
     ],
     "language": "python",
     "metadata": {},
     "outputs": [],
     "prompt_number": 1
    },
    {
     "cell_type": "markdown",
     "metadata": {},
     "source": [
      "Representation of Binary Search Tree node"
     ]
    },
    {
     "cell_type": "code",
     "collapsed": false,
     "input": [
      "class BinaryTreeNode:\n",
      "    def __init__(self,key,val,left=None,right=None,parent=None):\n",
      "        self.key = key\n",
      "        self.val = val\n",
      "        self.left = left\n",
      "        self.right = right\n",
      "        self.parent = parent\n",
      "        \n",
      "    def hasLeftChild(self):\n",
      "        return self.left\n",
      "    \n",
      "    def hasRightChild(self):\n",
      "        return self.right\n",
      "    \n",
      "    def isLeftChild(self):\n",
      "        return self.parent and self.parent.left == self\n",
      "    \n",
      "    def isRightChild(self):\n",
      "        return self.parent and self.parent.right == self\n",
      "    \n",
      "    def isRoot(self):\n",
      "        return not self.parent\n",
      "    \n",
      "    def isLeaf(self):\n",
      "        return not (self.right or self.left)\n",
      "    \n",
      "    def hasOneChild(self):\n",
      "        return self.right or self.left\n",
      "    \n",
      "    def hasBothChildren(self):\n",
      "        return self.right and self.left\n",
      "    \n",
      "    def replaceNodeData(self,key,val,left,right):\n",
      "        self.key = key\n",
      "        self.val = val\n",
      "        self.left = left\n",
      "        self.right = right\n",
      "        if self.hasLeftChild():\n",
      "            self.left.parent = self\n",
      "        if self.hasRightChild():\n",
      "            self.right.parent = self\n",
      "    "
     ],
     "language": "python",
     "metadata": {},
     "outputs": [],
     "prompt_number": 3
    },
    {
     "cell_type": "markdown",
     "metadata": {},
     "source": [
      "Inserting a new key value pair in a Binary Search Tree"
     ]
    },
    {
     "cell_type": "code",
     "collapsed": false,
     "input": [
      "def insert(self,key,val):\n",
      "    if self.root == None:\n",
      "        self.root = BinaryTreeNode(key,val)\n",
      "    else:\n",
      "        temp = self.root\n",
      "        node = BinaryTreeNode(key,val)\n",
      "        while temp != None:\n",
      "            if temp.key > node.key:\n",
      "                if temp.left == None:\n",
      "                    temp.left = node\n",
      "                else:\n",
      "                    temp = temp.left\n",
      "            else:\n",
      "                if temp.right == None:\n",
      "                    temp.right = node\n",
      "                else:\n",
      "                    temp = temp.right\n",
      "                    \n",
      "\n",
      "def __setitem__(self,k,v):\n",
      "    self.insert(k,v)"
     ],
     "language": "python",
     "metadata": {},
     "outputs": [],
     "prompt_number": 5
    },
    {
     "cell_type": "markdown",
     "metadata": {},
     "source": [
      "Searching a Binary Search Tree and retrieving a key,value pair"
     ]
    },
    {
     "cell_type": "code",
     "collapsed": false,
     "input": [
      "def get(self,key):\n",
      "    temp = self.root\n",
      "    if temp == None:\n",
      "        return None\n",
      "    else:\n",
      "        while temp != None:\n",
      "            if temp.key == key:\n",
      "                return temp\n",
      "            else:\n",
      "                if temp.key > key:\n",
      "                    temp = temp.left\n",
      "                else:\n",
      "                    temp = temp.right\n",
      "    return None\n",
      "\n",
      "\n",
      "def __contains__(self,key):\n",
      "    if self.get(key):\n",
      "        return True\n",
      "    else:\n",
      "        return False"
     ],
     "language": "python",
     "metadata": {},
     "outputs": [],
     "prompt_number": 6
    },
    {
     "cell_type": "markdown",
     "metadata": {},
     "source": [
      "Deletion of a key from the Binary Search Tree"
     ]
    },
    {
     "cell_type": "markdown",
     "metadata": {},
     "source": [
      "from IPython.display import YouTubeVideo\n",
      "YouTubeVideo('KyMiqaA0ijM')"
     ]
    },
    {
     "cell_type": "code",
     "collapsed": false,
     "input": [
      "def delete(self,key):\n",
      "    if self.size > 1:\n",
      "        nodeForRemoval = self.get(key)\n",
      "        if nodeForRemoval:\n",
      "            self.remove(nodeForRemoval)\n",
      "            self.size = self.size - 1\n",
      "        else:\n",
      "            raise KeyError(\"Error, key not in tree\")\n",
      "    elif self.size == 1 and self.root.key == key:\n",
      "        self.root = None\n",
      "        self.size -= 1\n",
      "    else:\n",
      "        raise KeyError(\"Error, key not in tree\")"
     ],
     "language": "python",
     "metadata": {},
     "outputs": [],
     "prompt_number": 11
    },
    {
     "cell_type": "markdown",
     "metadata": {},
     "source": [
      "There are three cases for deletion:\n",
      "\n",
      "1. The node to be deleted has no children\n",
      "2. The node to be deleted has one child\n",
      "3. The node to be deleted has both children"
     ]
    },
    {
     "cell_type": "markdown",
     "metadata": {},
     "source": [
      "Case 1. The node to be deleted has no children"
     ]
    },
    {
     "cell_type": "code",
     "collapsed": false,
     "input": [
      "def removeLeafNode(self,node):\n",
      "    if node == node.parent.left:\n",
      "        node.parent.left = None\n",
      "    else:\n",
      "        node.parent.right = None"
     ],
     "language": "python",
     "metadata": {},
     "outputs": [],
     "prompt_number": 13
    },
    {
     "cell_type": "markdown",
     "metadata": {},
     "source": [
      "Case 2. The node to be deleted has one child"
     ]
    },
    {
     "cell_type": "code",
     "collapsed": false,
     "input": [
      "def removeNodeWithOneChild(self,node):\n",
      "    if node.hasLeftChild():\n",
      "        if node.isLeftChild():\n",
      "            node.left.parent = node.parent\n",
      "            node.parent.left = node.left\n",
      "        else:\n",
      "            if node.isRightChild():\n",
      "                node.right.parent = node.parent\n",
      "                node.parent.right = node.left\n",
      "            else:\n",
      "                node.replaceNodeData(node.left.key,node.left.val,node.left.left,node.left.right)\n",
      "    else:\n",
      "        if node.isLeftChild():\n",
      "            node.right.parent = node.parent\n",
      "            node.parent.left = node.right\n",
      "        else:\n",
      "            if node.isRightChild():\n",
      "                node.right.parent = node.parent\n",
      "                node.parent.right = node.right\n",
      "            else:\n",
      "                node.replaceNodeData(node.right.key,node.right.val,node.right.left,node.right.right)"
     ],
     "language": "python",
     "metadata": {},
     "outputs": []
    }
   ],
   "metadata": {}
  }
 ]
}